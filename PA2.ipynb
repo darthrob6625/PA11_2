{
 "cells": [
  {
   "cell_type": "markdown",
   "metadata": {},
   "source": [
    "# What drives the price of a car?\n",
    "\n",
    "![](images/kurt.jpeg)"
   ]
  },
  {
   "cell_type": "markdown",
   "metadata": {},
   "source": [
    "**OVERVIEW**\n",
    "\n",
    "In this application, you will explore a dataset from Kaggle. The original dataset contained information on 3 million used cars. The provided dataset contains information on 426K cars to ensure speed of processing.  Your goal is to understand what factors make a car more or less expensive.  As a result of your analysis, you should provide clear recommendations to your client -- a used car dealership -- as to what consumers value in a used car."
   ]
  },
  {
   "cell_type": "markdown",
   "metadata": {},
   "source": [
    "### CRISP-DM Framework\n",
    "\n",
    "<center>\n",
    "    <img src = images/crisp.png width = 50%/>\n",
    "</center>\n",
    "\n",
    "\n",
    "To frame the task, throughout our practical applications, we will refer back to a standard process in industry for data projects called CRISP-DM.  This process provides a framework for working through a data problem.  Your first step in this application will be to read through a brief overview of CRISP-DM [here](https://mo-pcco.s3.us-east-1.amazonaws.com/BH-PCMLAI/module_11/readings_starter.zip).  After reading the overview, answer the questions below."
   ]
  },
  {
   "cell_type": "markdown",
   "metadata": {},
   "source": [
    "### Business Understanding\n",
    "\n",
    "From a business perspective, we are tasked with identifying key drivers for used car prices.  In the CRISP-DM overview, we are asked to convert this business framing to a data problem definition.  Using a few sentences, reframe the task as a data task with the appropriate technical vocabulary. "
   ]
  },
  {
   "cell_type": "code",
   "execution_count": 1,
   "metadata": {},
   "outputs": [],
   "source": [
    "# Business Understanding - To efficiently and competitively price used cars from a dataset of approximately 420K entries, \n",
    "# I will use data analysis tools to identify the most relevant features among the 18 available and select the most effective \n",
    "# predictive model for estimating price. Since the goal is to predict a single continuous outcome, and based on the lectures\n",
    "# and course content up to Module 10, my analysis will focus on regression-based models."
   ]
  },
  {
   "cell_type": "markdown",
   "metadata": {},
   "source": [
    "### Data Understanding\n",
    "\n",
    "After considering the business understanding, we want to get familiar with our data.  Write down some steps that you would take to get to know the dataset and identify any quality issues within.  Take time to get to know the dataset and explore what information it contains and how this could be used to inform your business understanding."
   ]
  },
  {
   "cell_type": "code",
   "execution_count": 4,
   "metadata": {},
   "outputs": [],
   "source": [
    "# Data Understanding - I will perform the following steps to review the dataset’s columns/features and note any data quality \n",
    "# concerns:\n",
    "# - Identify missing or null values in features\n",
    "# - Detect and remove duplicate rows\n",
    "# - Identify and assess outliers\n",
    "# - Convert data types as needed for analysis\n",
    "# - Remove irrelevant or redundant features"
   ]
  },
  {
   "cell_type": "code",
   "execution_count": 6,
   "metadata": {},
   "outputs": [],
   "source": [
    "# Data Analysis - The dataset contains 426,880 entries of used car sales and 18 features describing each car, such as fuel type,\n",
    "# transmission, and more. Based on my experience and knowledge of the used car market, I anticipate the following features will \n",
    "# have the greatest influence on the model:\n",
    "# - Year\n",
    "# - Odometer\n",
    "# - Manufacturer\n",
    "# - State"
   ]
  },
  {
   "cell_type": "code",
   "execution_count": 8,
   "metadata": {},
   "outputs": [],
   "source": [
    "import pandas as pd\n",
    "import matplotlib.pyplot as plt\n",
    "import seaborn as sns\n",
    "import warnings\n",
    "import numpy as np\n",
    "import math\n",
    "from sklearn.utils import shuffle\n",
    "from sklearn.linear_model import Ridge\n",
    "from sklearn import linear_model\n",
    "from sklearn.linear_model import LinearRegression\n",
    "from sklearn.pipeline import Pipeline\n",
    "from sklearn.metrics import mean_squared_error\n",
    "from sklearn.preprocessing import PolynomialFeatures\n",
    "\n",
    "from sklearn.preprocessing import StandardScaler, PolynomialFeatures\n",
    "from sklearn.linear_model import Ridge\n",
    "from sklearn.pipeline import Pipeline\n",
    "\n",
    "\n",
    "warnings.filterwarnings(\"ignore\")"
   ]
  },
  {
   "cell_type": "code",
   "execution_count": 9,
   "metadata": {},
   "outputs": [
    {
     "name": "stdout",
     "output_type": "stream",
     "text": [
      "The number of used car sales/rows is: 426880\n",
      "The number of features/columns is: 18\n"
     ]
    }
   ],
   "source": [
    "df = pd.read_csv(\"https://github.com/vkoul/data/raw/main/misc/vehicles.zip\")\n",
    "num_of_row = df.shape[0]\n",
    "num_of_col = df.shape[1]\n",
    "\n",
    "print(f\"The number of used car sales/rows is: {num_of_row}\")\n",
    "print(f\"The number of features/columns is: {num_of_col}\")"
   ]
  },
  {
   "cell_type": "code",
   "execution_count": 10,
   "metadata": {},
   "outputs": [
    {
     "data": {
      "text/plain": [
       "Index(['id', 'region', 'price', 'year', 'manufacturer', 'model', 'condition',\n",
       "       'cylinders', 'fuel', 'odometer', 'title_status', 'transmission', 'VIN',\n",
       "       'drive', 'size', 'type', 'paint_color', 'state'],\n",
       "      dtype='object')"
      ]
     },
     "execution_count": 10,
     "metadata": {},
     "output_type": "execute_result"
    }
   ],
   "source": [
    "# List 18 columns/features\n",
    "df.columns"
   ]
  },
  {
   "cell_type": "code",
   "execution_count": 14,
   "metadata": {},
   "outputs": [
    {
     "data": {
      "text/html": [
       "<div>\n",
       "<style scoped>\n",
       "    .dataframe tbody tr th:only-of-type {\n",
       "        vertical-align: middle;\n",
       "    }\n",
       "\n",
       "    .dataframe tbody tr th {\n",
       "        vertical-align: top;\n",
       "    }\n",
       "\n",
       "    .dataframe thead th {\n",
       "        text-align: right;\n",
       "    }\n",
       "</style>\n",
       "<table border=\"1\" class=\"dataframe\">\n",
       "  <thead>\n",
       "    <tr style=\"text-align: right;\">\n",
       "      <th></th>\n",
       "      <th>id</th>\n",
       "      <th>region</th>\n",
       "      <th>price</th>\n",
       "      <th>year</th>\n",
       "      <th>manufacturer</th>\n",
       "      <th>model</th>\n",
       "      <th>condition</th>\n",
       "      <th>cylinders</th>\n",
       "      <th>fuel</th>\n",
       "      <th>odometer</th>\n",
       "      <th>title_status</th>\n",
       "      <th>transmission</th>\n",
       "      <th>VIN</th>\n",
       "      <th>drive</th>\n",
       "      <th>size</th>\n",
       "      <th>type</th>\n",
       "      <th>paint_color</th>\n",
       "      <th>state</th>\n",
       "    </tr>\n",
       "  </thead>\n",
       "  <tbody>\n",
       "    <tr>\n",
       "      <th>0</th>\n",
       "      <td>7222695916</td>\n",
       "      <td>prescott</td>\n",
       "      <td>6000</td>\n",
       "      <td>NaN</td>\n",
       "      <td>NaN</td>\n",
       "      <td>NaN</td>\n",
       "      <td>NaN</td>\n",
       "      <td>NaN</td>\n",
       "      <td>NaN</td>\n",
       "      <td>NaN</td>\n",
       "      <td>NaN</td>\n",
       "      <td>NaN</td>\n",
       "      <td>NaN</td>\n",
       "      <td>NaN</td>\n",
       "      <td>NaN</td>\n",
       "      <td>NaN</td>\n",
       "      <td>NaN</td>\n",
       "      <td>az</td>\n",
       "    </tr>\n",
       "    <tr>\n",
       "      <th>1</th>\n",
       "      <td>7218891961</td>\n",
       "      <td>fayetteville</td>\n",
       "      <td>11900</td>\n",
       "      <td>NaN</td>\n",
       "      <td>NaN</td>\n",
       "      <td>NaN</td>\n",
       "      <td>NaN</td>\n",
       "      <td>NaN</td>\n",
       "      <td>NaN</td>\n",
       "      <td>NaN</td>\n",
       "      <td>NaN</td>\n",
       "      <td>NaN</td>\n",
       "      <td>NaN</td>\n",
       "      <td>NaN</td>\n",
       "      <td>NaN</td>\n",
       "      <td>NaN</td>\n",
       "      <td>NaN</td>\n",
       "      <td>ar</td>\n",
       "    </tr>\n",
       "    <tr>\n",
       "      <th>2</th>\n",
       "      <td>7221797935</td>\n",
       "      <td>florida keys</td>\n",
       "      <td>21000</td>\n",
       "      <td>NaN</td>\n",
       "      <td>NaN</td>\n",
       "      <td>NaN</td>\n",
       "      <td>NaN</td>\n",
       "      <td>NaN</td>\n",
       "      <td>NaN</td>\n",
       "      <td>NaN</td>\n",
       "      <td>NaN</td>\n",
       "      <td>NaN</td>\n",
       "      <td>NaN</td>\n",
       "      <td>NaN</td>\n",
       "      <td>NaN</td>\n",
       "      <td>NaN</td>\n",
       "      <td>NaN</td>\n",
       "      <td>fl</td>\n",
       "    </tr>\n",
       "    <tr>\n",
       "      <th>3</th>\n",
       "      <td>7222270760</td>\n",
       "      <td>worcester / central MA</td>\n",
       "      <td>1500</td>\n",
       "      <td>NaN</td>\n",
       "      <td>NaN</td>\n",
       "      <td>NaN</td>\n",
       "      <td>NaN</td>\n",
       "      <td>NaN</td>\n",
       "      <td>NaN</td>\n",
       "      <td>NaN</td>\n",
       "      <td>NaN</td>\n",
       "      <td>NaN</td>\n",
       "      <td>NaN</td>\n",
       "      <td>NaN</td>\n",
       "      <td>NaN</td>\n",
       "      <td>NaN</td>\n",
       "      <td>NaN</td>\n",
       "      <td>ma</td>\n",
       "    </tr>\n",
       "    <tr>\n",
       "      <th>4</th>\n",
       "      <td>7210384030</td>\n",
       "      <td>greensboro</td>\n",
       "      <td>4900</td>\n",
       "      <td>NaN</td>\n",
       "      <td>NaN</td>\n",
       "      <td>NaN</td>\n",
       "      <td>NaN</td>\n",
       "      <td>NaN</td>\n",
       "      <td>NaN</td>\n",
       "      <td>NaN</td>\n",
       "      <td>NaN</td>\n",
       "      <td>NaN</td>\n",
       "      <td>NaN</td>\n",
       "      <td>NaN</td>\n",
       "      <td>NaN</td>\n",
       "      <td>NaN</td>\n",
       "      <td>NaN</td>\n",
       "      <td>nc</td>\n",
       "    </tr>\n",
       "  </tbody>\n",
       "</table>\n",
       "</div>"
      ],
      "text/plain": [
       "           id                  region  price  year manufacturer model  \\\n",
       "0  7222695916                prescott   6000   NaN          NaN   NaN   \n",
       "1  7218891961            fayetteville  11900   NaN          NaN   NaN   \n",
       "2  7221797935            florida keys  21000   NaN          NaN   NaN   \n",
       "3  7222270760  worcester / central MA   1500   NaN          NaN   NaN   \n",
       "4  7210384030              greensboro   4900   NaN          NaN   NaN   \n",
       "\n",
       "  condition cylinders fuel  odometer title_status transmission  VIN drive  \\\n",
       "0       NaN       NaN  NaN       NaN          NaN          NaN  NaN   NaN   \n",
       "1       NaN       NaN  NaN       NaN          NaN          NaN  NaN   NaN   \n",
       "2       NaN       NaN  NaN       NaN          NaN          NaN  NaN   NaN   \n",
       "3       NaN       NaN  NaN       NaN          NaN          NaN  NaN   NaN   \n",
       "4       NaN       NaN  NaN       NaN          NaN          NaN  NaN   NaN   \n",
       "\n",
       "  size type paint_color state  \n",
       "0  NaN  NaN         NaN    az  \n",
       "1  NaN  NaN         NaN    ar  \n",
       "2  NaN  NaN         NaN    fl  \n",
       "3  NaN  NaN         NaN    ma  \n",
       "4  NaN  NaN         NaN    nc  "
      ]
     },
     "execution_count": 14,
     "metadata": {},
     "output_type": "execute_result"
    }
   ],
   "source": [
    "# Display five rows\n",
    "df.head()"
   ]
  },
  {
   "cell_type": "code",
   "execution_count": 16,
   "metadata": {},
   "outputs": [
    {
     "name": "stdout",
     "output_type": "stream",
     "text": [
      "<class 'pandas.core.frame.DataFrame'>\n",
      "RangeIndex: 426880 entries, 0 to 426879\n",
      "Data columns (total 18 columns):\n",
      " #   Column        Non-Null Count   Dtype  \n",
      "---  ------        --------------   -----  \n",
      " 0   id            426880 non-null  int64  \n",
      " 1   region        426880 non-null  object \n",
      " 2   price         426880 non-null  int64  \n",
      " 3   year          425675 non-null  float64\n",
      " 4   manufacturer  409234 non-null  object \n",
      " 5   model         421603 non-null  object \n",
      " 6   condition     252776 non-null  object \n",
      " 7   cylinders     249202 non-null  object \n",
      " 8   fuel          423867 non-null  object \n",
      " 9   odometer      422480 non-null  float64\n",
      " 10  title_status  418638 non-null  object \n",
      " 11  transmission  424324 non-null  object \n",
      " 12  VIN           265838 non-null  object \n",
      " 13  drive         296313 non-null  object \n",
      " 14  size          120519 non-null  object \n",
      " 15  type          334022 non-null  object \n",
      " 16  paint_color   296677 non-null  object \n",
      " 17  state         426880 non-null  object \n",
      "dtypes: float64(2), int64(2), object(14)\n",
      "memory usage: 58.6+ MB\n"
     ]
    }
   ],
   "source": [
    "df.info()"
   ]
  },
  {
   "cell_type": "code",
   "execution_count": 18,
   "metadata": {},
   "outputs": [
    {
     "data": {
      "text/html": [
       "<div>\n",
       "<style scoped>\n",
       "    .dataframe tbody tr th:only-of-type {\n",
       "        vertical-align: middle;\n",
       "    }\n",
       "\n",
       "    .dataframe tbody tr th {\n",
       "        vertical-align: top;\n",
       "    }\n",
       "\n",
       "    .dataframe thead th {\n",
       "        text-align: right;\n",
       "    }\n",
       "</style>\n",
       "<table border=\"1\" class=\"dataframe\">\n",
       "  <thead>\n",
       "    <tr style=\"text-align: right;\">\n",
       "      <th></th>\n",
       "      <th>id</th>\n",
       "      <th>price</th>\n",
       "      <th>year</th>\n",
       "      <th>odometer</th>\n",
       "    </tr>\n",
       "  </thead>\n",
       "  <tbody>\n",
       "    <tr>\n",
       "      <th>count</th>\n",
       "      <td>4.268800e+05</td>\n",
       "      <td>4.268800e+05</td>\n",
       "      <td>425675.000000</td>\n",
       "      <td>4.224800e+05</td>\n",
       "    </tr>\n",
       "    <tr>\n",
       "      <th>mean</th>\n",
       "      <td>7.311487e+09</td>\n",
       "      <td>7.519903e+04</td>\n",
       "      <td>2011.235191</td>\n",
       "      <td>9.804333e+04</td>\n",
       "    </tr>\n",
       "    <tr>\n",
       "      <th>std</th>\n",
       "      <td>4.473170e+06</td>\n",
       "      <td>1.218228e+07</td>\n",
       "      <td>9.452120</td>\n",
       "      <td>2.138815e+05</td>\n",
       "    </tr>\n",
       "    <tr>\n",
       "      <th>min</th>\n",
       "      <td>7.207408e+09</td>\n",
       "      <td>0.000000e+00</td>\n",
       "      <td>1900.000000</td>\n",
       "      <td>0.000000e+00</td>\n",
       "    </tr>\n",
       "    <tr>\n",
       "      <th>25%</th>\n",
       "      <td>7.308143e+09</td>\n",
       "      <td>5.900000e+03</td>\n",
       "      <td>2008.000000</td>\n",
       "      <td>3.770400e+04</td>\n",
       "    </tr>\n",
       "    <tr>\n",
       "      <th>50%</th>\n",
       "      <td>7.312621e+09</td>\n",
       "      <td>1.395000e+04</td>\n",
       "      <td>2013.000000</td>\n",
       "      <td>8.554800e+04</td>\n",
       "    </tr>\n",
       "    <tr>\n",
       "      <th>75%</th>\n",
       "      <td>7.315254e+09</td>\n",
       "      <td>2.648575e+04</td>\n",
       "      <td>2017.000000</td>\n",
       "      <td>1.335425e+05</td>\n",
       "    </tr>\n",
       "    <tr>\n",
       "      <th>max</th>\n",
       "      <td>7.317101e+09</td>\n",
       "      <td>3.736929e+09</td>\n",
       "      <td>2022.000000</td>\n",
       "      <td>1.000000e+07</td>\n",
       "    </tr>\n",
       "  </tbody>\n",
       "</table>\n",
       "</div>"
      ],
      "text/plain": [
       "                 id         price           year      odometer\n",
       "count  4.268800e+05  4.268800e+05  425675.000000  4.224800e+05\n",
       "mean   7.311487e+09  7.519903e+04    2011.235191  9.804333e+04\n",
       "std    4.473170e+06  1.218228e+07       9.452120  2.138815e+05\n",
       "min    7.207408e+09  0.000000e+00    1900.000000  0.000000e+00\n",
       "25%    7.308143e+09  5.900000e+03    2008.000000  3.770400e+04\n",
       "50%    7.312621e+09  1.395000e+04    2013.000000  8.554800e+04\n",
       "75%    7.315254e+09  2.648575e+04    2017.000000  1.335425e+05\n",
       "max    7.317101e+09  3.736929e+09    2022.000000  1.000000e+07"
      ]
     },
     "execution_count": 18,
     "metadata": {},
     "output_type": "execute_result"
    }
   ],
   "source": [
    "df.describe()"
   ]
  },
  {
   "cell_type": "code",
   "execution_count": 20,
   "metadata": {},
   "outputs": [
    {
     "data": {
      "image/png": "[encoded data removed]",
      "text/plain": [
       "<Figure size 1000x500 with 1 Axes>"
      ]
     },
     "metadata": {},
     "output_type": "display_data"
    }
   ],
   "source": [
    "# Plot of used car prices by Odometer\n",
    "df[[\"odometer\", \"price\"]].plot(kind=\"scatter\", x=\"odometer\", y=\"price\", alpha=0.5, figsize=(10,5))\n",
    "plt.title(\"Used Car Prices Odometer vs. Price\")\n",
    "plt.xlabel(\"Odometer\")\n",
    "plt.ylabel(\"Price\")\n",
    "plt.show()\n",
    "# Analysis: Used car prices sold at a higher value with lower miles\n"
   ]
  },
  {
   "cell_type": "code",
   "execution_count": 21,
   "metadata": {},
   "outputs": [
    {
     "data": {
      "image/png": "[encoded data removed]",
      "text/plain": [
       "<Figure size 1000x500 with 1 Axes>"
      ]
     },
     "metadata": {},
     "output_type": "display_data"
    }
   ],
   "source": [
    "# Plot of used car prices by year\n",
    "df[[\"year\", \"price\"]].plot(kind=\"scatter\", x=\"year\", y=\"price\", alpha=0.5, figsize=(10,5))\n",
    "plt.title(\"Used Car Prices Year vs. Price\")\n",
    "plt.xlabel(\"Year\")\n",
    "plt.ylabel(\"Price\")\n",
    "plt.show()\n",
    "# Analysis: More used cars were sold that were newer (year)"
   ]
  },
  {
   "cell_type": "code",
   "execution_count": 22,
   "metadata": {},
   "outputs": [
    {
     "data": {
      "text/plain": [
       "state\n",
       "ca    50614\n",
       "fl    28511\n",
       "tx    22945\n",
       "ny    19386\n",
       "oh    17696\n",
       "or    17104\n",
       "mi    16900\n",
       "nc    15277\n",
       "wa    13861\n",
       "pa    13753\n",
       "wi    11398\n",
       "co    11088\n",
       "tn    11066\n",
       "va    10732\n",
       "il    10387\n",
       "Name: count, dtype: int64"
      ]
     },
     "execution_count": 22,
     "metadata": {},
     "output_type": "execute_result"
    }
   ],
   "source": [
    "# List top states selling used cars\n",
    "df['state'].value_counts().head(15)"
   ]
  },
  {
   "cell_type": "code",
   "execution_count": 24,
   "metadata": {},
   "outputs": [
    {
     "name": "stdout",
     "output_type": "stream",
     "text": [
      "California car sales account for 11.86% of the dataset\n"
     ]
    }
   ],
   "source": [
    "# Calculate top state selling used cars\n",
    "ca_percent = df[df[\"state\"] == \"ca\"].shape[0] / df.shape[0]\n",
    "print(f\"California car sales account for {ca_percent:.2%} of the dataset\")"
   ]
  },
  {
   "cell_type": "code",
   "execution_count": 25,
   "metadata": {
    "scrolled": true
   },
   "outputs": [
    {
     "data": {
      "text/plain": [
       "manufacturer\n",
       "ford             70985\n",
       "chevrolet        55064\n",
       "toyota           34202\n",
       "honda            21269\n",
       "nissan           19067\n",
       "jeep             19014\n",
       "ram              18342\n",
       "gmc              16785\n",
       "bmw              14699\n",
       "dodge            13707\n",
       "mercedes-benz    11817\n",
       "hyundai          10338\n",
       "subaru            9495\n",
       "volkswagen        9345\n",
       "kia               8457\n",
       "Name: count, dtype: int64"
      ]
     },
     "execution_count": 25,
     "metadata": {},
     "output_type": "execute_result"
    }
   ],
   "source": [
    "# List top used car selling manufacturer\n",
    "df[\"manufacturer\"].value_counts().head(15)"
   ]
  },
  {
   "cell_type": "code",
   "execution_count": 28,
   "metadata": {},
   "outputs": [
    {
     "data": {
      "image/png": "[encoded data removed]",
      "text/plain": [
       "<Figure size 1000x500 with 1 Axes>"
      ]
     },
     "metadata": {},
     "output_type": "display_data"
    }
   ],
   "source": [
    "# Plot of the top ten used car selling manufacturer\n",
    "top_manufacturers = df[\"manufacturer\"].value_counts().head(10)\n",
    "plt.figure(figsize=(10,5))\n",
    "top_manufacturers.plot(kind=\"bar\")\n",
    "plt.title(\"Top 10 Selling Used Car Manufacturers\")\n",
    "plt.xlabel(\"Manufacturer\")\n",
    "plt.ylabel(\"Number of Cars Sold\")\n",
    "plt.xticks(rotation=45)\n",
    "plt.tight_layout()\n",
    "plt.show()\n",
    "# Analysis: Ford manufacturer top selling used cars"
   ]
  },
  {
   "cell_type": "code",
   "execution_count": 31,
   "metadata": {},
   "outputs": [
    {
     "data": {
      "text/plain": [
       "year\n",
       "2017.0    36420\n",
       "2018.0    36369\n",
       "2015.0    31538\n",
       "2013.0    30794\n",
       "2016.0    30434\n",
       "          ...  \n",
       "1943.0        1\n",
       "1915.0        1\n",
       "1902.0        1\n",
       "1905.0        1\n",
       "1909.0        1\n",
       "Name: count, Length: 114, dtype: int64"
      ]
     },
     "execution_count": 31,
     "metadata": {},
     "output_type": "execute_result"
    }
   ],
   "source": [
    "# Plot used car sales by year\n",
    "df[\"year\"].value_counts()"
   ]
  },
  {
   "cell_type": "code",
   "execution_count": 34,
   "metadata": {},
   "outputs": [
    {
     "data": {
      "text/plain": [
       "<Axes: title={'center': 'Used Car Sales By Year'}, xlabel='year'>"
      ]
     },
     "execution_count": 34,
     "metadata": {},
     "output_type": "execute_result"
    },
    {
     "data": {
      "image/png": "[encoded data removed]",
      "text/plain": [
       "<Figure size 1000x500 with 1 Axes>"
      ]
     },
     "metadata": {},
     "output_type": "display_data"
    }
   ],
   "source": [
    "# Plot used car sales by year\n",
    "sales_by_year = df[\"year\"].value_counts().sort_index()\n",
    "sales_by_year = sales_by_year[sales_by_year.index > 1980]\n",
    "sales_by_year.plot(\n",
    "    kind='bar', \n",
    "    figsize=(10,5), \n",
    "    title=\"Used Car Sales By Year\", \n",
    "    rot=90\n",
    ")"
   ]
  },
  {
   "cell_type": "code",
   "execution_count": 35,
   "metadata": {},
   "outputs": [
    {
     "name": "stdout",
     "output_type": "stream",
     "text": [
      "Total of used cars with a price of $0: 32895\n"
     ]
    }
   ],
   "source": [
    "temp = (df['price'] == 0).sum()\n",
    "print(f\"Total of used cars with a price of $0: {temp}\")"
   ]
  },
  {
   "cell_type": "code",
   "execution_count": 38,
   "metadata": {},
   "outputs": [
    {
     "name": "stdout",
     "output_type": "stream",
     "text": [
      "Total of used cars with a price less than $100: 36222\n"
     ]
    }
   ],
   "source": [
    "temp = (df['price'] < 100).sum()\n",
    "print(f\"Total of used cars with a price less than $100: {temp}\")"
   ]
  },
  {
   "cell_type": "code",
   "execution_count": 40,
   "metadata": {},
   "outputs": [
    {
     "name": "stdout",
     "output_type": "stream",
     "text": [
      "Total of used cars with a price less than $1000: 46315\n"
     ]
    }
   ],
   "source": [
    "temp = (df['price'] < 1000).sum()\n",
    "print(f\"Total of used cars with a price less than $1000: {temp}\")"
   ]
  },
  {
   "cell_type": "code",
   "execution_count": 42,
   "metadata": {},
   "outputs": [
    {
     "name": "stdout",
     "output_type": "stream",
     "text": [
      "The mean used car price is $75199.03\n"
     ]
    }
   ],
   "source": [
    "df_mean = df['price'].mean()\n",
    "print(f\"The mean used car price is ${df_mean:.2f}\")"
   ]
  },
  {
   "cell_type": "code",
   "execution_count": 44,
   "metadata": {},
   "outputs": [
    {
     "name": "stdout",
     "output_type": "stream",
     "text": [
      "The standard deviation of used cars prices is $12182282.17\n"
     ]
    }
   ],
   "source": [
    "df_std = df['price'].std()\n",
    "print(f\"The standard deviation of used cars prices is ${df_std:.2f}\")"
   ]
  },
  {
   "cell_type": "markdown",
   "metadata": {},
   "source": [
    "### Data Preparation\n",
    "\n",
    "After our initial exploration and fine-tuning of the business understanding, it is time to construct our final dataset prior to modeling.  Here, we want to make sure to handle any integrity issues and cleaning, the engineering of new features, any transformations that we believe should happen (scaling, logarithms, normalization, etc.), and general preparation for modeling with `sklearn`. "
   ]
  },
  {
   "cell_type": "code",
   "execution_count": 47,
   "metadata": {},
   "outputs": [
    {
     "data": {
      "text/plain": [
       "size            306361\n",
       "cylinders       177678\n",
       "condition       174104\n",
       "VIN             161042\n",
       "drive           130567\n",
       "paint_color     130203\n",
       "type             92858\n",
       "manufacturer     17646\n",
       "title_status      8242\n",
       "model             5277\n",
       "odometer          4400\n",
       "fuel              3013\n",
       "transmission      2556\n",
       "year              1205\n",
       "id                   0\n",
       "region               0\n",
       "price                0\n",
       "state                0\n",
       "dtype: int64"
      ]
     },
     "execution_count": 47,
     "metadata": {},
     "output_type": "execute_result"
    }
   ],
   "source": [
    "# Identify null or missing values and sort by highest\n",
    "df.isnull().sum().sort_values(ascending=False).head(len(df.columns))"
   ]
  },
  {
   "cell_type": "code",
   "execution_count": 49,
   "metadata": {},
   "outputs": [],
   "source": [
    "# Remove columns/features that are less relevant"
   ]
  },
  {
   "cell_type": "code",
   "execution_count": 51,
   "metadata": {},
   "outputs": [],
   "source": [
    "# Drop features from dataframe\n",
    "df.drop([\"id\", \"region\", \"VIN\", \"cylinders\",\"paint_color\", \"drive\", \"model\",\"condition\", \"size\", \"condition\", \"type\"], axis=1, inplace=True)"
   ]
  },
  {
   "cell_type": "code",
   "execution_count": 53,
   "metadata": {},
   "outputs": [
    {
     "data": {
      "text/plain": [
       "manufacturer    17646\n",
       "title_status     8242\n",
       "odometer         4400\n",
       "fuel             3013\n",
       "transmission     2556\n",
       "year             1205\n",
       "price               0\n",
       "state               0\n",
       "dtype: int64"
      ]
     },
     "execution_count": 53,
     "metadata": {},
     "output_type": "execute_result"
    }
   ],
   "source": [
    "# Identify null or missing values and sort by highest\n",
    "df.isnull().sum().sort_values(ascending=False).head(len(df.columns))"
   ]
  },
  {
   "cell_type": "code",
   "execution_count": 55,
   "metadata": {},
   "outputs": [],
   "source": [
    "# Remove missing key missing value records\n",
    "df.dropna(subset=[\"manufacturer\"], inplace=True)\n",
    "df.dropna(subset=[\"odometer\"], inplace=True)\n",
    "df.dropna(subset=[\"year\"], inplace=True)"
   ]
  },
  {
   "cell_type": "code",
   "execution_count": 57,
   "metadata": {},
   "outputs": [
    {
     "name": "stdout",
     "output_type": "stream",
     "text": [
      "Number of rows after: 353622\n"
     ]
    }
   ],
   "source": [
    "# Remove used car sales less than 500\n",
    "df.drop(df[df[\"price\"] < 2500].index, inplace=True)\n",
    "df.drop(df[df[\"price\"] > 150000].index, inplace=True)\n",
    "print(f\"Number of rows after: {df.shape[0]}\")"
   ]
  },
  {
   "cell_type": "code",
   "execution_count": 59,
   "metadata": {},
   "outputs": [
    {
     "name": "stdout",
     "output_type": "stream",
     "text": [
      "Number of rows after: 329018\n"
     ]
    }
   ],
   "source": [
    "# Remove used car sales older than 1980 and newer than 2019\n",
    "df.query(\"year > 1980\", inplace=True)\n",
    "df.query(\"year < 2020\", inplace=True)\n",
    "print(f\"Number of rows after: {df.shape[0]}\")"
   ]
  },
  {
   "cell_type": "code",
   "execution_count": 61,
   "metadata": {},
   "outputs": [
    {
     "name": "stdout",
     "output_type": "stream",
     "text": [
      "Number of rows after: 328503\n"
     ]
    }
   ],
   "source": [
    "# Remove used car sales with odometer greater than 250K (miles)\n",
    "df.query('odometer <= 400000', inplace=True)\n",
    "df[\"odometer\"] = df[\"odometer\"].astype(int)\n",
    "print(f\"Number of rows after: {df.shape[0]}\")"
   ]
  },
  {
   "cell_type": "code",
   "execution_count": 63,
   "metadata": {},
   "outputs": [],
   "source": [
    "# Keep only title status which are clean, this may help with outliers, then drop title staus\n",
    "df.query('title_status == \"clean\"', inplace=True)\n",
    "df.drop(\"title_status\", axis=1, inplace=True)"
   ]
  },
  {
   "cell_type": "code",
   "execution_count": 65,
   "metadata": {},
   "outputs": [
    {
     "data": {
      "text/plain": [
       "fuel            1389\n",
       "transmission    1333\n",
       "price              0\n",
       "year               0\n",
       "manufacturer       0\n",
       "odometer           0\n",
       "state              0\n",
       "dtype: int64"
      ]
     },
     "execution_count": 65,
     "metadata": {},
     "output_type": "execute_result"
    }
   ],
   "source": [
    "df.isnull().sum().sort_values(ascending=False).head(len(df.columns))"
   ]
  },
  {
   "cell_type": "code",
   "execution_count": 67,
   "metadata": {},
   "outputs": [
    {
     "data": {
      "text/html": [
       "<div>\n",
       "<style scoped>\n",
       "    .dataframe tbody tr th:only-of-type {\n",
       "        vertical-align: middle;\n",
       "    }\n",
       "\n",
       "    .dataframe tbody tr th {\n",
       "        vertical-align: top;\n",
       "    }\n",
       "\n",
       "    .dataframe thead th {\n",
       "        text-align: right;\n",
       "    }\n",
       "</style>\n",
       "<table border=\"1\" class=\"dataframe\">\n",
       "  <thead>\n",
       "    <tr style=\"text-align: right;\">\n",
       "      <th></th>\n",
       "      <th>price</th>\n",
       "      <th>year</th>\n",
       "      <th>manufacturer</th>\n",
       "      <th>fuel</th>\n",
       "      <th>odometer</th>\n",
       "      <th>transmission</th>\n",
       "      <th>state</th>\n",
       "      <th>age</th>\n",
       "    </tr>\n",
       "  </thead>\n",
       "  <tbody>\n",
       "    <tr>\n",
       "      <th>27</th>\n",
       "      <td>33590</td>\n",
       "      <td>2014.0</td>\n",
       "      <td>gmc</td>\n",
       "      <td>gas</td>\n",
       "      <td>57923</td>\n",
       "      <td>other</td>\n",
       "      <td>al</td>\n",
       "      <td>6</td>\n",
       "    </tr>\n",
       "    <tr>\n",
       "      <th>28</th>\n",
       "      <td>22590</td>\n",
       "      <td>2010.0</td>\n",
       "      <td>chevrolet</td>\n",
       "      <td>gas</td>\n",
       "      <td>71229</td>\n",
       "      <td>other</td>\n",
       "      <td>al</td>\n",
       "      <td>10</td>\n",
       "    </tr>\n",
       "    <tr>\n",
       "      <th>30</th>\n",
       "      <td>30990</td>\n",
       "      <td>2017.0</td>\n",
       "      <td>toyota</td>\n",
       "      <td>gas</td>\n",
       "      <td>41124</td>\n",
       "      <td>other</td>\n",
       "      <td>al</td>\n",
       "      <td>3</td>\n",
       "    </tr>\n",
       "    <tr>\n",
       "      <th>31</th>\n",
       "      <td>15000</td>\n",
       "      <td>2013.0</td>\n",
       "      <td>ford</td>\n",
       "      <td>gas</td>\n",
       "      <td>128000</td>\n",
       "      <td>automatic</td>\n",
       "      <td>al</td>\n",
       "      <td>7</td>\n",
       "    </tr>\n",
       "    <tr>\n",
       "      <th>32</th>\n",
       "      <td>27990</td>\n",
       "      <td>2012.0</td>\n",
       "      <td>gmc</td>\n",
       "      <td>gas</td>\n",
       "      <td>68696</td>\n",
       "      <td>other</td>\n",
       "      <td>al</td>\n",
       "      <td>8</td>\n",
       "    </tr>\n",
       "    <tr>\n",
       "      <th>...</th>\n",
       "      <td>...</td>\n",
       "      <td>...</td>\n",
       "      <td>...</td>\n",
       "      <td>...</td>\n",
       "      <td>...</td>\n",
       "      <td>...</td>\n",
       "      <td>...</td>\n",
       "      <td>...</td>\n",
       "    </tr>\n",
       "    <tr>\n",
       "      <th>147</th>\n",
       "      <td>14590</td>\n",
       "      <td>2012.0</td>\n",
       "      <td>bmw</td>\n",
       "      <td>other</td>\n",
       "      <td>80465</td>\n",
       "      <td>other</td>\n",
       "      <td>al</td>\n",
       "      <td>8</td>\n",
       "    </tr>\n",
       "    <tr>\n",
       "      <th>148</th>\n",
       "      <td>20590</td>\n",
       "      <td>2018.0</td>\n",
       "      <td>chrysler</td>\n",
       "      <td>gas</td>\n",
       "      <td>71021</td>\n",
       "      <td>other</td>\n",
       "      <td>al</td>\n",
       "      <td>2</td>\n",
       "    </tr>\n",
       "    <tr>\n",
       "      <th>150</th>\n",
       "      <td>10990</td>\n",
       "      <td>2013.0</td>\n",
       "      <td>nissan</td>\n",
       "      <td>gas</td>\n",
       "      <td>81557</td>\n",
       "      <td>other</td>\n",
       "      <td>al</td>\n",
       "      <td>7</td>\n",
       "    </tr>\n",
       "    <tr>\n",
       "      <th>151</th>\n",
       "      <td>26990</td>\n",
       "      <td>2018.0</td>\n",
       "      <td>gmc</td>\n",
       "      <td>gas</td>\n",
       "      <td>26514</td>\n",
       "      <td>other</td>\n",
       "      <td>al</td>\n",
       "      <td>2</td>\n",
       "    </tr>\n",
       "    <tr>\n",
       "      <th>154</th>\n",
       "      <td>24590</td>\n",
       "      <td>2018.0</td>\n",
       "      <td>lincoln</td>\n",
       "      <td>gas</td>\n",
       "      <td>16081</td>\n",
       "      <td>automatic</td>\n",
       "      <td>al</td>\n",
       "      <td>2</td>\n",
       "    </tr>\n",
       "  </tbody>\n",
       "</table>\n",
       "<p>100 rows × 8 columns</p>\n",
       "</div>"
      ],
      "text/plain": [
       "     price    year manufacturer   fuel  odometer transmission state  age\n",
       "27   33590  2014.0          gmc    gas     57923        other    al    6\n",
       "28   22590  2010.0    chevrolet    gas     71229        other    al   10\n",
       "30   30990  2017.0       toyota    gas     41124        other    al    3\n",
       "31   15000  2013.0         ford    gas    128000    automatic    al    7\n",
       "32   27990  2012.0          gmc    gas     68696        other    al    8\n",
       "..     ...     ...          ...    ...       ...          ...   ...  ...\n",
       "147  14590  2012.0          bmw  other     80465        other    al    8\n",
       "148  20590  2018.0     chrysler    gas     71021        other    al    2\n",
       "150  10990  2013.0       nissan    gas     81557        other    al    7\n",
       "151  26990  2018.0          gmc    gas     26514        other    al    2\n",
       "154  24590  2018.0      lincoln    gas     16081    automatic    al    2\n",
       "\n",
       "[100 rows x 8 columns]"
      ]
     },
     "execution_count": 67,
     "metadata": {},
     "output_type": "execute_result"
    }
   ],
   "source": [
    "# Create age of used car sale, assume 2025 as base\n",
    "df[\"age\"] = 2020 - df[\"year\"]\n",
    "df[\"age\"] = df[\"age\"].astype(int)\n",
    "df.head(100)"
   ]
  },
  {
   "cell_type": "code",
   "execution_count": 69,
   "metadata": {},
   "outputs": [],
   "source": [
    "# Drop features from dataframe\n",
    "df.drop([\"year\"], axis=1, inplace=True)"
   ]
  },
  {
   "cell_type": "code",
   "execution_count": 71,
   "metadata": {},
   "outputs": [
    {
     "name": "stdout",
     "output_type": "stream",
     "text": [
      "transmission\n",
      "automatic    246921\n",
      "manual        15484\n",
      "other         48330\n",
      "Name: count, dtype: int64\n"
     ]
    }
   ],
   "source": [
    "# Learn about 'transmission'\n",
    "print(df[\"transmission\"].value_counts().sort_index())\n",
    "\n",
    "# I will drop the transmission feature since I don't know what 'other' is.\n",
    "df.drop([\"transmission\"], axis=1, inplace=True)"
   ]
  },
  {
   "cell_type": "code",
   "execution_count": 73,
   "metadata": {},
   "outputs": [
    {
     "name": "stdout",
     "output_type": "stream",
     "text": [
      "fuel\n",
      "diesel       20144\n",
      "electric      1299\n",
      "gas         261877\n",
      "hybrid        4198\n",
      "other        23161\n",
      "Name: count, dtype: int64\n"
     ]
    }
   ],
   "source": [
    "# Learn about 'fuel'\n",
    "print(df[\"fuel\"].value_counts().sort_index())\n",
    "\n",
    "# I will drop the fuel feature since I don't know what 'other' is.\n",
    "df.drop([\"fuel\"], axis=1, inplace=True)\n"
   ]
  },
  {
   "cell_type": "code",
   "execution_count": 75,
   "metadata": {},
   "outputs": [
    {
     "name": "stdout",
     "output_type": "stream",
     "text": [
      "<class 'pandas.core.frame.DataFrame'>\n",
      "Index: 312068 entries, 27 to 426879\n",
      "Data columns (total 5 columns):\n",
      " #   Column        Non-Null Count   Dtype \n",
      "---  ------        --------------   ----- \n",
      " 0   price         312068 non-null  int64 \n",
      " 1   manufacturer  312068 non-null  object\n",
      " 2   odometer      312068 non-null  int32 \n",
      " 3   state         312068 non-null  object\n",
      " 4   age           312068 non-null  int32 \n",
      "dtypes: int32(2), int64(1), object(2)\n",
      "memory usage: 11.9+ MB\n"
     ]
    }
   ],
   "source": [
    "df.info()"
   ]
  },
  {
   "cell_type": "code",
   "execution_count": 77,
   "metadata": {},
   "outputs": [
    {
     "data": {
      "text/html": [
       "<div>\n",
       "<style scoped>\n",
       "    .dataframe tbody tr th:only-of-type {\n",
       "        vertical-align: middle;\n",
       "    }\n",
       "\n",
       "    .dataframe tbody tr th {\n",
       "        vertical-align: top;\n",
       "    }\n",
       "\n",
       "    .dataframe thead th {\n",
       "        text-align: right;\n",
       "    }\n",
       "</style>\n",
       "<table border=\"1\" class=\"dataframe\">\n",
       "  <thead>\n",
       "    <tr style=\"text-align: right;\">\n",
       "      <th></th>\n",
       "      <th>price</th>\n",
       "      <th>manufacturer</th>\n",
       "      <th>odometer</th>\n",
       "      <th>state</th>\n",
       "      <th>age</th>\n",
       "    </tr>\n",
       "  </thead>\n",
       "  <tbody>\n",
       "    <tr>\n",
       "      <th>27</th>\n",
       "      <td>33590</td>\n",
       "      <td>gmc</td>\n",
       "      <td>57923</td>\n",
       "      <td>al</td>\n",
       "      <td>6</td>\n",
       "    </tr>\n",
       "    <tr>\n",
       "      <th>28</th>\n",
       "      <td>22590</td>\n",
       "      <td>chevrolet</td>\n",
       "      <td>71229</td>\n",
       "      <td>al</td>\n",
       "      <td>10</td>\n",
       "    </tr>\n",
       "    <tr>\n",
       "      <th>30</th>\n",
       "      <td>30990</td>\n",
       "      <td>toyota</td>\n",
       "      <td>41124</td>\n",
       "      <td>al</td>\n",
       "      <td>3</td>\n",
       "    </tr>\n",
       "    <tr>\n",
       "      <th>31</th>\n",
       "      <td>15000</td>\n",
       "      <td>ford</td>\n",
       "      <td>128000</td>\n",
       "      <td>al</td>\n",
       "      <td>7</td>\n",
       "    </tr>\n",
       "    <tr>\n",
       "      <th>32</th>\n",
       "      <td>27990</td>\n",
       "      <td>gmc</td>\n",
       "      <td>68696</td>\n",
       "      <td>al</td>\n",
       "      <td>8</td>\n",
       "    </tr>\n",
       "    <tr>\n",
       "      <th>33</th>\n",
       "      <td>34590</td>\n",
       "      <td>chevrolet</td>\n",
       "      <td>29499</td>\n",
       "      <td>al</td>\n",
       "      <td>4</td>\n",
       "    </tr>\n",
       "    <tr>\n",
       "      <th>34</th>\n",
       "      <td>35000</td>\n",
       "      <td>toyota</td>\n",
       "      <td>43000</td>\n",
       "      <td>al</td>\n",
       "      <td>1</td>\n",
       "    </tr>\n",
       "    <tr>\n",
       "      <th>35</th>\n",
       "      <td>29990</td>\n",
       "      <td>chevrolet</td>\n",
       "      <td>17302</td>\n",
       "      <td>al</td>\n",
       "      <td>4</td>\n",
       "    </tr>\n",
       "    <tr>\n",
       "      <th>36</th>\n",
       "      <td>38590</td>\n",
       "      <td>chevrolet</td>\n",
       "      <td>30237</td>\n",
       "      <td>al</td>\n",
       "      <td>9</td>\n",
       "    </tr>\n",
       "    <tr>\n",
       "      <th>37</th>\n",
       "      <td>4500</td>\n",
       "      <td>jeep</td>\n",
       "      <td>192000</td>\n",
       "      <td>al</td>\n",
       "      <td>28</td>\n",
       "    </tr>\n",
       "  </tbody>\n",
       "</table>\n",
       "</div>"
      ],
      "text/plain": [
       "    price manufacturer  odometer state  age\n",
       "27  33590          gmc     57923    al    6\n",
       "28  22590    chevrolet     71229    al   10\n",
       "30  30990       toyota     41124    al    3\n",
       "31  15000         ford    128000    al    7\n",
       "32  27990          gmc     68696    al    8\n",
       "33  34590    chevrolet     29499    al    4\n",
       "34  35000       toyota     43000    al    1\n",
       "35  29990    chevrolet     17302    al    4\n",
       "36  38590    chevrolet     30237    al    9\n",
       "37   4500         jeep    192000    al   28"
      ]
     },
     "execution_count": 77,
     "metadata": {},
     "output_type": "execute_result"
    }
   ],
   "source": [
    "df.head(10)"
   ]
  },
  {
   "cell_type": "markdown",
   "metadata": {},
   "source": [
    "### Modeling\n",
    "\n",
    "With your (almost?) final dataset in hand, it is now time to build some models.  Here, you should build a number of different regression models with the price as the target.  In building your models, you should explore different parameters and be sure to cross-validate your findings."
   ]
  },
  {
   "cell_type": "code",
   "execution_count": 80,
   "metadata": {},
   "outputs": [],
   "source": [
    "# create backup\n",
    "df2 = df.copy()"
   ]
  },
  {
   "cell_type": "code",
   "execution_count": 82,
   "metadata": {},
   "outputs": [
    {
     "name": "stdout",
     "output_type": "stream",
     "text": [
      "The predicted price of a 10-year old used car is: $ 16753.17\n",
      "The predicted price of a 20-year old used car is: $ 4546.49\n"
     ]
    }
   ],
   "source": [
    "# * * * * * * * * * * * * * * * * * * * * * * *\n",
    "# Simple Linear Regression - one feature \"age\"\n",
    "# * * * * * * * * * * * * * * * * * * * * * * *\n",
    "features = df[[\"age\"]]\n",
    "price = df[\"price\"]\n",
    "f = linear_model.LinearRegression()\n",
    "f.fit(features, price)\n",
    "temp10 = f.predict([[10]])\n",
    "temp20 = f.predict([[20]])\n",
    "print(f\"The predicted price of a 10-year old used car is: $ {temp10[0]:.2f}\")\n",
    "print(f\"The predicted price of a 20-year old used car is: $ {temp20[0]:.2f}\")\n",
    "df[\"p1\"] = f.predict(features)\n",
    "df[\"p1\"] = df[\"p1\"].astype(int)"
   ]
  },
  {
   "cell_type": "code",
   "execution_count": 84,
   "metadata": {},
   "outputs": [
    {
     "name": "stdout",
     "output_type": "stream",
     "text": [
      "Mean Squared Error P1: 130814787\n"
     ]
    }
   ],
   "source": [
    "# MSE - very high\n",
    "mse1 = mean_squared_error(df[\"p1\"], df[\"price\"])\n",
    "print(\"Mean Squared Error P1:\", int(mse1))"
   ]
  },
  {
   "cell_type": "code",
   "execution_count": 86,
   "metadata": {},
   "outputs": [],
   "source": [
    "# * * * * * * * * * * * * * * * * * * * * * * * * * * * * * * * *\n",
    "# Multiple Linear Regression - two features \"age\" and \"odometer\"\n",
    "# * * * * * * * * * * * * * * * * * * * * * * * * * * * * * * * *\n",
    "features = df[[\"age\", \"odometer\"]]\n",
    "f2 = linear_model.LinearRegression()\n",
    "f2.fit(features, df[\"price\"])\n",
    "df[\"p2\"] = f2.predict(features)\n",
    "df[\"p2\"] = df[\"p2\"].astype(int)"
   ]
  },
  {
   "cell_type": "code",
   "execution_count": 88,
   "metadata": {},
   "outputs": [
    {
     "name": "stdout",
     "output_type": "stream",
     "text": [
      "Mean Squared Error P1: 130814787\n",
      "Mean Squared Error P2: 116450152\n"
     ]
    }
   ],
   "source": [
    "mse2 = mean_squared_error(df[\"p2\"], df[\"price\"])\n",
    "print(\"Mean Squared Error P1:\", int(mse1))\n",
    "print(\"Mean Squared Error P2:\", int(mse2))"
   ]
  },
  {
   "cell_type": "code",
   "execution_count": 90,
   "metadata": {},
   "outputs": [
    {
     "data": {
      "text/html": [
       "<div>\n",
       "<style scoped>\n",
       "    .dataframe tbody tr th:only-of-type {\n",
       "        vertical-align: middle;\n",
       "    }\n",
       "\n",
       "    .dataframe tbody tr th {\n",
       "        vertical-align: top;\n",
       "    }\n",
       "\n",
       "    .dataframe thead th {\n",
       "        text-align: right;\n",
       "    }\n",
       "</style>\n",
       "<table border=\"1\" class=\"dataframe\">\n",
       "  <thead>\n",
       "    <tr style=\"text-align: right;\">\n",
       "      <th></th>\n",
       "      <th>price</th>\n",
       "      <th>manufacturer</th>\n",
       "      <th>odometer</th>\n",
       "      <th>state</th>\n",
       "      <th>age</th>\n",
       "      <th>p1</th>\n",
       "      <th>p2</th>\n",
       "    </tr>\n",
       "  </thead>\n",
       "  <tbody>\n",
       "    <tr>\n",
       "      <th>27</th>\n",
       "      <td>33590</td>\n",
       "      <td>gmc</td>\n",
       "      <td>57923</td>\n",
       "      <td>al</td>\n",
       "      <td>6</td>\n",
       "      <td>21635</td>\n",
       "      <td>23622</td>\n",
       "    </tr>\n",
       "    <tr>\n",
       "      <th>28</th>\n",
       "      <td>22590</td>\n",
       "      <td>chevrolet</td>\n",
       "      <td>71229</td>\n",
       "      <td>al</td>\n",
       "      <td>10</td>\n",
       "      <td>16753</td>\n",
       "      <td>19404</td>\n",
       "    </tr>\n",
       "    <tr>\n",
       "      <th>30</th>\n",
       "      <td>30990</td>\n",
       "      <td>toyota</td>\n",
       "      <td>41124</td>\n",
       "      <td>al</td>\n",
       "      <td>3</td>\n",
       "      <td>25297</td>\n",
       "      <td>27293</td>\n",
       "    </tr>\n",
       "    <tr>\n",
       "      <th>31</th>\n",
       "      <td>15000</td>\n",
       "      <td>ford</td>\n",
       "      <td>128000</td>\n",
       "      <td>al</td>\n",
       "      <td>7</td>\n",
       "      <td>20415</td>\n",
       "      <td>17593</td>\n",
       "    </tr>\n",
       "    <tr>\n",
       "      <th>32</th>\n",
       "      <td>27990</td>\n",
       "      <td>gmc</td>\n",
       "      <td>68696</td>\n",
       "      <td>al</td>\n",
       "      <td>8</td>\n",
       "      <td>19194</td>\n",
       "      <td>21206</td>\n",
       "    </tr>\n",
       "  </tbody>\n",
       "</table>\n",
       "</div>"
      ],
      "text/plain": [
       "    price manufacturer  odometer state  age     p1     p2\n",
       "27  33590          gmc     57923    al    6  21635  23622\n",
       "28  22590    chevrolet     71229    al   10  16753  19404\n",
       "30  30990       toyota     41124    al    3  25297  27293\n",
       "31  15000         ford    128000    al    7  20415  17593\n",
       "32  27990          gmc     68696    al    8  19194  21206"
      ]
     },
     "execution_count": 90,
     "metadata": {},
     "output_type": "execute_result"
    }
   ],
   "source": [
    "df.head(5)"
   ]
  },
  {
   "cell_type": "code",
   "execution_count": 92,
   "metadata": {},
   "outputs": [
    {
     "name": "stdout",
     "output_type": "stream",
     "text": [
      "<class 'pandas.core.frame.DataFrame'>\n",
      "Index: 312068 entries, 27 to 426879\n",
      "Data columns (total 7 columns):\n",
      " #   Column         Non-Null Count   Dtype \n",
      "---  ------         --------------   ----- \n",
      " 0   price          312068 non-null  int64 \n",
      " 1   manufacturer   312068 non-null  object\n",
      " 2   odometer       312068 non-null  int32 \n",
      " 3   age            312068 non-null  int32 \n",
      " 4   p1             312068 non-null  int32 \n",
      " 5   p2             312068 non-null  int32 \n",
      " 6   state_popular  312068 non-null  int64 \n",
      "dtypes: int32(4), int64(2), object(1)\n",
      "memory usage: 14.3+ MB\n"
     ]
    }
   ],
   "source": [
    "df[\"state_popular\"] = 0\n",
    "\n",
    "temp = df[\"state\"].value_counts()[df[\"state\"].value_counts() > 10000].index\n",
    "df.loc[df[\"state\"].isin(temp), \"state_popular\"] = 1\n",
    "\n",
    "temp = df[\"state\"].value_counts()[df[\"state\"].value_counts() > 20000].index\n",
    "df.loc[df[\"state\"].isin(temp), \"state_popular\"] = 2\n",
    "\n",
    "temp = df[\"state\"].value_counts()[df[\"state\"].value_counts() > 30000].index\n",
    "df.loc[df[\"state\"].isin(temp), \"state_popular\"] = 3\n",
    "\n",
    "df.drop([\"state\"], axis=1, inplace=True)\n",
    "df.info()\n"
   ]
  },
  {
   "cell_type": "code",
   "execution_count": 94,
   "metadata": {},
   "outputs": [
    {
     "name": "stdout",
     "output_type": "stream",
     "text": [
      "<class 'pandas.core.frame.DataFrame'>\n",
      "Index: 312068 entries, 27 to 426879\n",
      "Data columns (total 7 columns):\n",
      " #   Column         Non-Null Count   Dtype\n",
      "---  ------         --------------   -----\n",
      " 0   price          312068 non-null  int64\n",
      " 1   odometer       312068 non-null  int32\n",
      " 2   age            312068 non-null  int32\n",
      " 3   p1             312068 non-null  int32\n",
      " 4   p2             312068 non-null  int32\n",
      " 5   state_popular  312068 non-null  int64\n",
      " 6   manuf_popular  312068 non-null  int64\n",
      "dtypes: int32(4), int64(3)\n",
      "memory usage: 14.3 MB\n"
     ]
    }
   ],
   "source": [
    "df[\"manuf_popular\"] = 0\n",
    "\n",
    "temp = df[\"manufacturer\"].value_counts()[df[\"manufacturer\"].value_counts() > 10000].index\n",
    "df.loc[df[\"manufacturer\"].isin(temp), \"manuf_popular\"] = 1\n",
    "\n",
    "temp = df[\"manufacturer\"].value_counts()[df[\"manufacturer\"].value_counts() > 20000].index\n",
    "df.loc[df[\"manufacturer\"].isin(temp), \"manuf_popular\"] = 2\n",
    "\n",
    "temp = df[\"manufacturer\"].value_counts()[df[\"manufacturer\"].value_counts() > 30000].index\n",
    "df.loc[df[\"manufacturer\"].isin(temp), \"manuf_popular\"] = 3\n",
    "\n",
    "temp = df[\"manufacturer\"].value_counts()[df[\"manufacturer\"].value_counts() > 40000].index\n",
    "df.loc[df[\"manufacturer\"].isin(temp), \"manuf_popular\"] = 4\n",
    "\n",
    "temp = df[\"manufacturer\"].value_counts()[df[\"manufacturer\"].value_counts() > 50000].index\n",
    "df.loc[df[\"manufacturer\"].isin(temp), \"manuf_popular\"] = 5\n",
    "\n",
    "df.drop([\"manufacturer\"], axis=1, inplace=True)\n",
    "df.info()\n"
   ]
  },
  {
   "cell_type": "code",
   "execution_count": 95,
   "metadata": {},
   "outputs": [],
   "source": [
    "df3 = df.copy()"
   ]
  },
  {
   "cell_type": "code",
   "execution_count": 98,
   "metadata": {},
   "outputs": [
    {
     "data": {
      "text/html": [
       "<div>\n",
       "<style scoped>\n",
       "    .dataframe tbody tr th:only-of-type {\n",
       "        vertical-align: middle;\n",
       "    }\n",
       "\n",
       "    .dataframe tbody tr th {\n",
       "        vertical-align: top;\n",
       "    }\n",
       "\n",
       "    .dataframe thead th {\n",
       "        text-align: right;\n",
       "    }\n",
       "</style>\n",
       "<table border=\"1\" class=\"dataframe\">\n",
       "  <thead>\n",
       "    <tr style=\"text-align: right;\">\n",
       "      <th></th>\n",
       "      <th>price</th>\n",
       "      <th>odometer</th>\n",
       "      <th>age</th>\n",
       "      <th>p1</th>\n",
       "      <th>p2</th>\n",
       "      <th>state_popular</th>\n",
       "      <th>manuf_popular</th>\n",
       "      <th>p3</th>\n",
       "    </tr>\n",
       "  </thead>\n",
       "  <tbody>\n",
       "    <tr>\n",
       "      <th>27</th>\n",
       "      <td>33590</td>\n",
       "      <td>57923</td>\n",
       "      <td>6</td>\n",
       "      <td>21635</td>\n",
       "      <td>23622</td>\n",
       "      <td>0</td>\n",
       "      <td>1</td>\n",
       "      <td>23003</td>\n",
       "    </tr>\n",
       "    <tr>\n",
       "      <th>28</th>\n",
       "      <td>22590</td>\n",
       "      <td>71229</td>\n",
       "      <td>10</td>\n",
       "      <td>16753</td>\n",
       "      <td>19404</td>\n",
       "      <td>0</td>\n",
       "      <td>4</td>\n",
       "      <td>22039</td>\n",
       "    </tr>\n",
       "    <tr>\n",
       "      <th>30</th>\n",
       "      <td>30990</td>\n",
       "      <td>41124</td>\n",
       "      <td>3</td>\n",
       "      <td>25297</td>\n",
       "      <td>27293</td>\n",
       "      <td>0</td>\n",
       "      <td>2</td>\n",
       "      <td>27837</td>\n",
       "    </tr>\n",
       "    <tr>\n",
       "      <th>31</th>\n",
       "      <td>15000</td>\n",
       "      <td>128000</td>\n",
       "      <td>7</td>\n",
       "      <td>20415</td>\n",
       "      <td>17593</td>\n",
       "      <td>0</td>\n",
       "      <td>5</td>\n",
       "      <td>21074</td>\n",
       "    </tr>\n",
       "    <tr>\n",
       "      <th>32</th>\n",
       "      <td>27990</td>\n",
       "      <td>68696</td>\n",
       "      <td>8</td>\n",
       "      <td>19194</td>\n",
       "      <td>21206</td>\n",
       "      <td>0</td>\n",
       "      <td>1</td>\n",
       "      <td>20547</td>\n",
       "    </tr>\n",
       "  </tbody>\n",
       "</table>\n",
       "</div>"
      ],
      "text/plain": [
       "    price  odometer  age     p1     p2  state_popular  manuf_popular     p3\n",
       "27  33590     57923    6  21635  23622              0              1  23003\n",
       "28  22590     71229   10  16753  19404              0              4  22039\n",
       "30  30990     41124    3  25297  27293              0              2  27837\n",
       "31  15000    128000    7  20415  17593              0              5  21074\n",
       "32  27990     68696    8  19194  21206              0              1  20547"
      ]
     },
     "execution_count": 98,
     "metadata": {},
     "output_type": "execute_result"
    }
   ],
   "source": [
    "# * * * * * * * * * * * * * * * * * * * * * * * * * * * * * * * *\n",
    "# Multiple Linear Regression - four features\n",
    "# * * * * * * * * * * * * * * * * * * * * * * * * * * * * * * * *\n",
    "features = df[[\"age\", \"odometer\", \"state_popular\", \"manuf_popular\"]]\n",
    "f3 = linear_model.LinearRegression()\n",
    "f3.fit(features, df[\"price\"])\n",
    "df[\"p3\"] = f3.predict(features)\n",
    "df[\"p3\"] = df[\"p3\"].astype(int)\n",
    "df.head(5)"
   ]
  },
  {
   "cell_type": "code",
   "execution_count": 100,
   "metadata": {},
   "outputs": [
    {
     "name": "stdout",
     "output_type": "stream",
     "text": [
      "Mean Squared Error P1: 130814787\n",
      "Mean Squared Error P2: 116450152\n",
      "Mean Squared Error P3: 111999768\n"
     ]
    }
   ],
   "source": [
    "mse3 = mean_squared_error(df[\"p3\"], df[\"price\"])\n",
    "print(\"Mean Squared Error P1:\", int(mse1))\n",
    "print(\"Mean Squared Error P2:\", int(mse2))\n",
    "print(\"Mean Squared Error P3:\", int(mse3))"
   ]
  },
  {
   "cell_type": "code",
   "execution_count": 102,
   "metadata": {},
   "outputs": [
    {
     "data": {
      "text/html": [
       "<div>\n",
       "<style scoped>\n",
       "    .dataframe tbody tr th:only-of-type {\n",
       "        vertical-align: middle;\n",
       "    }\n",
       "\n",
       "    .dataframe tbody tr th {\n",
       "        vertical-align: top;\n",
       "    }\n",
       "\n",
       "    .dataframe thead th {\n",
       "        text-align: right;\n",
       "    }\n",
       "</style>\n",
       "<table border=\"1\" class=\"dataframe\">\n",
       "  <thead>\n",
       "    <tr style=\"text-align: right;\">\n",
       "      <th></th>\n",
       "      <th>price</th>\n",
       "      <th>odometer</th>\n",
       "      <th>age</th>\n",
       "      <th>p1</th>\n",
       "      <th>p2</th>\n",
       "      <th>state_popular</th>\n",
       "      <th>manuf_popular</th>\n",
       "      <th>p3</th>\n",
       "      <th>age2</th>\n",
       "      <th>p4</th>\n",
       "    </tr>\n",
       "  </thead>\n",
       "  <tbody>\n",
       "    <tr>\n",
       "      <th>27</th>\n",
       "      <td>33590</td>\n",
       "      <td>57923</td>\n",
       "      <td>6</td>\n",
       "      <td>21635</td>\n",
       "      <td>23622</td>\n",
       "      <td>0</td>\n",
       "      <td>1</td>\n",
       "      <td>23003</td>\n",
       "      <td>36</td>\n",
       "      <td>21537</td>\n",
       "    </tr>\n",
       "    <tr>\n",
       "      <th>28</th>\n",
       "      <td>22590</td>\n",
       "      <td>71229</td>\n",
       "      <td>10</td>\n",
       "      <td>16753</td>\n",
       "      <td>19404</td>\n",
       "      <td>0</td>\n",
       "      <td>4</td>\n",
       "      <td>22039</td>\n",
       "      <td>100</td>\n",
       "      <td>18212</td>\n",
       "    </tr>\n",
       "    <tr>\n",
       "      <th>30</th>\n",
       "      <td>30990</td>\n",
       "      <td>41124</td>\n",
       "      <td>3</td>\n",
       "      <td>25297</td>\n",
       "      <td>27293</td>\n",
       "      <td>0</td>\n",
       "      <td>2</td>\n",
       "      <td>27837</td>\n",
       "      <td>9</td>\n",
       "      <td>28790</td>\n",
       "    </tr>\n",
       "    <tr>\n",
       "      <th>31</th>\n",
       "      <td>15000</td>\n",
       "      <td>128000</td>\n",
       "      <td>7</td>\n",
       "      <td>20415</td>\n",
       "      <td>17593</td>\n",
       "      <td>0</td>\n",
       "      <td>5</td>\n",
       "      <td>21074</td>\n",
       "      <td>49</td>\n",
       "      <td>20492</td>\n",
       "    </tr>\n",
       "    <tr>\n",
       "      <th>32</th>\n",
       "      <td>27990</td>\n",
       "      <td>68696</td>\n",
       "      <td>8</td>\n",
       "      <td>19194</td>\n",
       "      <td>21206</td>\n",
       "      <td>0</td>\n",
       "      <td>1</td>\n",
       "      <td>20547</td>\n",
       "      <td>64</td>\n",
       "      <td>17935</td>\n",
       "    </tr>\n",
       "  </tbody>\n",
       "</table>\n",
       "</div>"
      ],
      "text/plain": [
       "    price  odometer  age     p1     p2  state_popular  manuf_popular     p3  \\\n",
       "27  33590     57923    6  21635  23622              0              1  23003   \n",
       "28  22590     71229   10  16753  19404              0              4  22039   \n",
       "30  30990     41124    3  25297  27293              0              2  27837   \n",
       "31  15000    128000    7  20415  17593              0              5  21074   \n",
       "32  27990     68696    8  19194  21206              0              1  20547   \n",
       "\n",
       "    age2     p4  \n",
       "27    36  21537  \n",
       "28   100  18212  \n",
       "30     9  28790  \n",
       "31    49  20492  \n",
       "32    64  17935  "
      ]
     },
     "execution_count": 102,
     "metadata": {},
     "output_type": "execute_result"
    }
   ],
   "source": [
    "# * * * * * * * * * * * * * * * * * * * * * * * * * * * * * * * *\n",
    "# Multiple Linear Regression - 5 features\n",
    "# * * * * * * * * * * * * * * * * * * * * * * * * * * * * * * * *\n",
    "df[\"age2\"] = df[\"age\"] **2\n",
    "features = df[[\"age\", \"odometer\", \"state_popular\", \"manuf_popular\", \"age2\"]]\n",
    "f4 = linear_model.LinearRegression()\n",
    "f4.fit(features, df[\"price\"])\n",
    "df[\"p4\"] = f4.predict(features)\n",
    "df[\"p4\"] = df[\"p4\"].astype(int)\n",
    "df.head(5)"
   ]
  },
  {
   "cell_type": "code",
   "execution_count": 104,
   "metadata": {},
   "outputs": [
    {
     "name": "stdout",
     "output_type": "stream",
     "text": [
      "Mean Squared Error P1: 130814787\n",
      "Mean Squared Error P2: 116450152\n",
      "Mean Squared Error P3: 111999768\n",
      "Mean Squared Error P4: 103564537\n"
     ]
    }
   ],
   "source": [
    "mse4 = mean_squared_error(df[\"p4\"], df[\"price\"])\n",
    "print(\"Mean Squared Error P1:\", int(mse1))\n",
    "print(\"Mean Squared Error P2:\", int(mse2))\n",
    "print(\"Mean Squared Error P3:\", int(mse3))\n",
    "print(\"Mean Squared Error P4:\", int(mse4))"
   ]
  },
  {
   "cell_type": "code",
   "execution_count": 106,
   "metadata": {},
   "outputs": [
    {
     "name": "stdout",
     "output_type": "stream",
     "text": [
      "Mean Squared Error P1: 130814787\n",
      "Mean Squared Error P2: 116450152\n",
      "Mean Squared Error P3: 111999768\n",
      "Mean Squared Error P4: 103564537\n",
      "Mean Squared Error P5: 109310622\n"
     ]
    }
   ],
   "source": [
    "# * * * * * * * * * * * * * * * * * * * * * * * * * * * * * * * *\n",
    "# Multiple Linear Regression - Pipeline\n",
    "# * * * * * * * * * * * * * * * * * * * * * * * * * * * * * * * *\n",
    "#df.drop([\"age2\"], axis=1, inplace=True)\n",
    "\n",
    "df = df2.copy()\n",
    "\n",
    "pipeline_model = Pipeline([\n",
    "    ('transform', PolynomialFeatures(degree=5, include_bias=False)), \n",
    "    ('regression', LinearRegression())\n",
    "])\n",
    "\n",
    "p5 = pipeline_model.fit(df[[\"age\"]], df[\"price\"])\n",
    "df[\"p5\"] = p5.predict(df[[\"age\"]])\n",
    "df.head(5)\n",
    "\n",
    "mse5 = mean_squared_error(df[\"p5\"], df[\"price\"])\n",
    "print(\"Mean Squared Error P1:\", int(mse1))\n",
    "print(\"Mean Squared Error P2:\", int(mse2))\n",
    "print(\"Mean Squared Error P3:\", int(mse3))\n",
    "print(\"Mean Squared Error P4:\", int(mse4))\n",
    "print(\"Mean Squared Error P5:\", int(mse5))\n",
    "\n"
   ]
  },
  {
   "cell_type": "code",
   "execution_count": 108,
   "metadata": {},
   "outputs": [
    {
     "data": {
      "image/png": "[encoded data removed]",
      "text/plain": [
       "<Figure size 1000x500 with 1 Axes>"
      ]
     },
     "metadata": {},
     "output_type": "display_data"
    },
    {
     "data": {
      "text/html": [
       "<div>\n",
       "<style scoped>\n",
       "    .dataframe tbody tr th:only-of-type {\n",
       "        vertical-align: middle;\n",
       "    }\n",
       "\n",
       "    .dataframe tbody tr th {\n",
       "        vertical-align: top;\n",
       "    }\n",
       "\n",
       "    .dataframe thead th {\n",
       "        text-align: right;\n",
       "    }\n",
       "</style>\n",
       "<table border=\"1\" class=\"dataframe\">\n",
       "  <thead>\n",
       "    <tr style=\"text-align: right;\">\n",
       "      <th></th>\n",
       "      <th>price</th>\n",
       "      <th>manufacturer</th>\n",
       "      <th>odometer</th>\n",
       "      <th>state</th>\n",
       "      <th>age</th>\n",
       "      <th>p5</th>\n",
       "    </tr>\n",
       "  </thead>\n",
       "  <tbody>\n",
       "    <tr>\n",
       "      <th>27</th>\n",
       "      <td>33590</td>\n",
       "      <td>gmc</td>\n",
       "      <td>57923</td>\n",
       "      <td>al</td>\n",
       "      <td>6</td>\n",
       "      <td>19850.592731</td>\n",
       "    </tr>\n",
       "    <tr>\n",
       "      <th>28</th>\n",
       "      <td>22590</td>\n",
       "      <td>chevrolet</td>\n",
       "      <td>71229</td>\n",
       "      <td>al</td>\n",
       "      <td>10</td>\n",
       "      <td>12001.930155</td>\n",
       "    </tr>\n",
       "    <tr>\n",
       "      <th>30</th>\n",
       "      <td>30990</td>\n",
       "      <td>toyota</td>\n",
       "      <td>41124</td>\n",
       "      <td>al</td>\n",
       "      <td>3</td>\n",
       "      <td>28225.444654</td>\n",
       "    </tr>\n",
       "    <tr>\n",
       "      <th>31</th>\n",
       "      <td>15000</td>\n",
       "      <td>ford</td>\n",
       "      <td>128000</td>\n",
       "      <td>al</td>\n",
       "      <td>7</td>\n",
       "      <td>17492.178176</td>\n",
       "    </tr>\n",
       "    <tr>\n",
       "      <th>32</th>\n",
       "      <td>27990</td>\n",
       "      <td>gmc</td>\n",
       "      <td>68696</td>\n",
       "      <td>al</td>\n",
       "      <td>8</td>\n",
       "      <td>15391.209770</td>\n",
       "    </tr>\n",
       "  </tbody>\n",
       "</table>\n",
       "</div>"
      ],
      "text/plain": [
       "    price manufacturer  odometer state  age            p5\n",
       "27  33590          gmc     57923    al    6  19850.592731\n",
       "28  22590    chevrolet     71229    al   10  12001.930155\n",
       "30  30990       toyota     41124    al    3  28225.444654\n",
       "31  15000         ford    128000    al    7  17492.178176\n",
       "32  27990          gmc     68696    al    8  15391.209770"
      ]
     },
     "execution_count": 108,
     "metadata": {},
     "output_type": "execute_result"
    }
   ],
   "source": [
    "df[[\"odometer\", \"price\"]].plot(kind=\"scatter\", x=\"odometer\", y=\"price\", alpha=0.5, figsize=(10,5))\n",
    "plt.title(\"Used Car Prices Odometer vs. Price\")\n",
    "plt.xlabel(\"Odometer\")\n",
    "plt.ylabel(\"Price\")\n",
    "plt.show()\n",
    "df.head()"
   ]
  },
  {
   "cell_type": "code",
   "execution_count": 109,
   "metadata": {},
   "outputs": [
    {
     "data": {
      "image/png": "[encoded data removed]",
      "text/plain": [
       "<Figure size 1000x500 with 1 Axes>"
      ]
     },
     "metadata": {},
     "output_type": "display_data"
    },
    {
     "data": {
      "text/html": [
       "<div>\n",
       "<style scoped>\n",
       "    .dataframe tbody tr th:only-of-type {\n",
       "        vertical-align: middle;\n",
       "    }\n",
       "\n",
       "    .dataframe tbody tr th {\n",
       "        vertical-align: top;\n",
       "    }\n",
       "\n",
       "    .dataframe thead th {\n",
       "        text-align: right;\n",
       "    }\n",
       "</style>\n",
       "<table border=\"1\" class=\"dataframe\">\n",
       "  <thead>\n",
       "    <tr style=\"text-align: right;\">\n",
       "      <th></th>\n",
       "      <th>price</th>\n",
       "      <th>manufacturer</th>\n",
       "      <th>odometer</th>\n",
       "      <th>state</th>\n",
       "      <th>age</th>\n",
       "      <th>p5</th>\n",
       "    </tr>\n",
       "  </thead>\n",
       "  <tbody>\n",
       "    <tr>\n",
       "      <th>27</th>\n",
       "      <td>33590</td>\n",
       "      <td>gmc</td>\n",
       "      <td>57923</td>\n",
       "      <td>al</td>\n",
       "      <td>6</td>\n",
       "      <td>19850.592731</td>\n",
       "    </tr>\n",
       "    <tr>\n",
       "      <th>28</th>\n",
       "      <td>22590</td>\n",
       "      <td>chevrolet</td>\n",
       "      <td>71229</td>\n",
       "      <td>al</td>\n",
       "      <td>10</td>\n",
       "      <td>12001.930155</td>\n",
       "    </tr>\n",
       "    <tr>\n",
       "      <th>30</th>\n",
       "      <td>30990</td>\n",
       "      <td>toyota</td>\n",
       "      <td>41124</td>\n",
       "      <td>al</td>\n",
       "      <td>3</td>\n",
       "      <td>28225.444654</td>\n",
       "    </tr>\n",
       "    <tr>\n",
       "      <th>31</th>\n",
       "      <td>15000</td>\n",
       "      <td>ford</td>\n",
       "      <td>128000</td>\n",
       "      <td>al</td>\n",
       "      <td>7</td>\n",
       "      <td>17492.178176</td>\n",
       "    </tr>\n",
       "    <tr>\n",
       "      <th>32</th>\n",
       "      <td>27990</td>\n",
       "      <td>gmc</td>\n",
       "      <td>68696</td>\n",
       "      <td>al</td>\n",
       "      <td>8</td>\n",
       "      <td>15391.209770</td>\n",
       "    </tr>\n",
       "  </tbody>\n",
       "</table>\n",
       "</div>"
      ],
      "text/plain": [
       "    price manufacturer  odometer state  age            p5\n",
       "27  33590          gmc     57923    al    6  19850.592731\n",
       "28  22590    chevrolet     71229    al   10  12001.930155\n",
       "30  30990       toyota     41124    al    3  28225.444654\n",
       "31  15000         ford    128000    al    7  17492.178176\n",
       "32  27990          gmc     68696    al    8  15391.209770"
      ]
     },
     "execution_count": 109,
     "metadata": {},
     "output_type": "execute_result"
    }
   ],
   "source": [
    "df_sample = df.sample(1000)\n",
    "df_sample[[\"odometer\", \"price\"]].plot(kind=\"scatter\", x=\"odometer\", y=\"price\", alpha=0.5, figsize=(10,5))\n",
    "plt.title(\"Used Car Prices Odometer vs. Price\")\n",
    "plt.xlabel(\"Odometer\")\n",
    "plt.ylabel(\"Price\")\n",
    "plt.show()\n",
    "df.head()"
   ]
  },
  {
   "cell_type": "code",
   "execution_count": 110,
   "metadata": {},
   "outputs": [],
   "source": [
    "def get_mse_by_k(k):\n",
    "    pipeline_model = Pipeline([\n",
    "    ('transform', PolynomialFeatures(degree=k)), \n",
    "    ('regression', LinearRegression())\n",
    "    ])\n",
    "    pipeline_model.fit(df_sample[[\"age\"]], df_sample[\"price\"])\n",
    "    return mean_squared_error(pipeline_model.predict(df_sample[[\"age\"]]), df_sample[\"price\"])\n",
    "\n",
    "ks = np.array(range(0,10))\n",
    "mses = [get_mse_by_k(k) for k in ks]\n",
    "mses_and_k = pd.DataFrame({\"k\": ks, \"MSE\": mses})\n"
   ]
  },
  {
   "cell_type": "code",
   "execution_count": 111,
   "metadata": {},
   "outputs": [
    {
     "data": {
      "image/png": "[encoded data removed]",
      "text/plain": [
       "<Figure size 1000x500 with 1 Axes>"
      ]
     },
     "metadata": {},
     "output_type": "display_data"
    }
   ],
   "source": [
    "mses_and_k[[\"k\", \"MSE\"]].plot(kind=\"scatter\", x=\"k\", y=\"MSE\", alpha=0.5, figsize=(10,5))\n",
    "plt.title(\"MSE\")\n",
    "plt.xlabel(\"K\")\n",
    "plt.ylabel(\"MSE\")\n",
    "plt.show()"
   ]
  },
  {
   "cell_type": "code",
   "execution_count": 113,
   "metadata": {},
   "outputs": [
    {
     "data": {
      "text/html": [
       "<div>\n",
       "<style scoped>\n",
       "    .dataframe tbody tr th:only-of-type {\n",
       "        vertical-align: middle;\n",
       "    }\n",
       "\n",
       "    .dataframe tbody tr th {\n",
       "        vertical-align: top;\n",
       "    }\n",
       "\n",
       "    .dataframe thead th {\n",
       "        text-align: right;\n",
       "    }\n",
       "</style>\n",
       "<table border=\"1\" class=\"dataframe\">\n",
       "  <thead>\n",
       "    <tr style=\"text-align: right;\">\n",
       "      <th></th>\n",
       "      <th>price</th>\n",
       "      <th>odometer</th>\n",
       "      <th>age</th>\n",
       "    </tr>\n",
       "  </thead>\n",
       "  <tbody>\n",
       "    <tr>\n",
       "      <th>27</th>\n",
       "      <td>33590</td>\n",
       "      <td>57923</td>\n",
       "      <td>6</td>\n",
       "    </tr>\n",
       "    <tr>\n",
       "      <th>28</th>\n",
       "      <td>22590</td>\n",
       "      <td>71229</td>\n",
       "      <td>10</td>\n",
       "    </tr>\n",
       "    <tr>\n",
       "      <th>30</th>\n",
       "      <td>30990</td>\n",
       "      <td>41124</td>\n",
       "      <td>3</td>\n",
       "    </tr>\n",
       "    <tr>\n",
       "      <th>31</th>\n",
       "      <td>15000</td>\n",
       "      <td>128000</td>\n",
       "      <td>7</td>\n",
       "    </tr>\n",
       "    <tr>\n",
       "      <th>32</th>\n",
       "      <td>27990</td>\n",
       "      <td>68696</td>\n",
       "      <td>8</td>\n",
       "    </tr>\n",
       "    <tr>\n",
       "      <th>...</th>\n",
       "      <td>...</td>\n",
       "      <td>...</td>\n",
       "      <td>...</td>\n",
       "    </tr>\n",
       "    <tr>\n",
       "      <th>426873</th>\n",
       "      <td>30990</td>\n",
       "      <td>15080</td>\n",
       "      <td>2</td>\n",
       "    </tr>\n",
       "    <tr>\n",
       "      <th>426874</th>\n",
       "      <td>33590</td>\n",
       "      <td>30814</td>\n",
       "      <td>2</td>\n",
       "    </tr>\n",
       "    <tr>\n",
       "      <th>426875</th>\n",
       "      <td>23590</td>\n",
       "      <td>32226</td>\n",
       "      <td>1</td>\n",
       "    </tr>\n",
       "    <tr>\n",
       "      <th>426878</th>\n",
       "      <td>28990</td>\n",
       "      <td>30112</td>\n",
       "      <td>2</td>\n",
       "    </tr>\n",
       "    <tr>\n",
       "      <th>426879</th>\n",
       "      <td>30590</td>\n",
       "      <td>22716</td>\n",
       "      <td>1</td>\n",
       "    </tr>\n",
       "  </tbody>\n",
       "</table>\n",
       "<p>312068 rows × 3 columns</p>\n",
       "</div>"
      ],
      "text/plain": [
       "        price  odometer  age\n",
       "27      33590     57923    6\n",
       "28      22590     71229   10\n",
       "30      30990     41124    3\n",
       "31      15000    128000    7\n",
       "32      27990     68696    8\n",
       "...       ...       ...  ...\n",
       "426873  30990     15080    2\n",
       "426874  33590     30814    2\n",
       "426875  23590     32226    1\n",
       "426878  28990     30112    2\n",
       "426879  30590     22716    1\n",
       "\n",
       "[312068 rows x 3 columns]"
      ]
     },
     "execution_count": 113,
     "metadata": {},
     "output_type": "execute_result"
    }
   ],
   "source": [
    "df3.drop([\"p1\",\"p2\",\"state_popular\",\"manuf_popular\"], axis=1, inplace=True)\n",
    "df3"
   ]
  },
  {
   "cell_type": "code",
   "execution_count": 116,
   "metadata": {},
   "outputs": [
    {
     "name": "stdout",
     "output_type": "stream",
     "text": [
      "Mean Squared Error P1: 130814787\n",
      "Mean Squared Error P2: 116450152\n",
      "Mean Squared Error P3: 111999768\n",
      "Mean Squared Error P4: 103564537\n",
      "Mean Squared Error P5: 109310622\n",
      "Mean Squared Error P6: 104337612\n"
     ]
    }
   ],
   "source": [
    "# Attempt to Standardize the data in the dataframe\n",
    "\n",
    "scaled_ridge_model = Pipeline([\n",
    "    ('transform', PolynomialFeatures(degree=3, include_bias = False)), \n",
    "    ('scale', StandardScaler()),\n",
    "    ('regression', Ridge(alpha = 25))\n",
    "    ])\n",
    "\n",
    "p6 = scaled_ridge_model.fit(df3[[\"age\",\"odometer\"]], df3[\"price\"])\n",
    "df3[\"p6\"] = p6.predict(df3[[\"age\",\"odometer\"]])\n",
    "\n",
    "mse6 = mean_squared_error(df3[\"p6\"], df[\"price\"])\n",
    "print(\"Mean Squared Error P1:\", int(mse1))\n",
    "print(\"Mean Squared Error P2:\", int(mse2))\n",
    "print(\"Mean Squared Error P3:\", int(mse3))\n",
    "print(\"Mean Squared Error P4:\", int(mse4))\n",
    "print(\"Mean Squared Error P5:\", int(mse5))\n",
    "print(\"Mean Squared Error P6:\", int(mse6))\n"
   ]
  },
  {
   "cell_type": "markdown",
   "metadata": {},
   "source": [
    "### Evaluation\n",
    "\n",
    "With some modeling accomplished, we aim to reflect on what we identify as a high-quality model and what we are able to learn from this.  We should review our business objective and explore how well we can provide meaningful insight into drivers of used car prices.  Your goal now is to distill your findings and determine whether the earlier phases need revisitation and adjustment or if you have information of value to bring back to your client."
   ]
  },
  {
   "cell_type": "code",
   "execution_count": 121,
   "metadata": {},
   "outputs": [],
   "source": [
    "# After completing Practical Application 2, I developed six models, progressing from a single feature to multiple features. \n",
    "# In retrospect, the maximum number of features I incorporated was seven. I would like to investigate the impact on MSE \n",
    "# when using a larger set of features.\n",
    "\n",
    "# For instance, while analyzing the manufacturer variable, I identified over forty unique values. Rather than \n",
    "# creating one hot encoding for each category, I opted to assign a single popular variable, similar to the lecture \n",
    "# example where day of the week was converted into binary form. I would apply a similar approach to the state \n",
    "# variable in future iterations.\n",
    "\n",
    "# I was somewhat disappointed by the high MSE values produced by my models. Because vehicle prices are measured \n",
    "# in the thousands, and the models were not well fitted, squaring the residuals resulted in very large error values. \n",
    "# This reinforces my belief that incorporating additional features or segmenting the dataset by manufacturer could \n",
    "# improve model performance.\n",
    "\n",
    "# A significant portion of my time was dedicated to data cleaning and preparation. I filtered the dataset to include \n",
    "# vehicles priced between two thousand five hundred and one hundred fifty thousand dollars, which helped remove salvage \n",
    "# vehicles and extreme outliers. Additionally, I limited the model to cars manufactured between 1980 and 2020 to \n",
    "# exclude the period impacted by COVID related disruptions in vehicle sales.\n",
    "\n",
    "# Ultimately, I reduced the dataset to four key variables: year or age, odometer, manufacturer, and price. However,\n",
    "# I suspect that these features alone were insufficient to accurately predict prices or achieve a satisfactory MSE."
   ]
  },
  {
   "cell_type": "code",
   "execution_count": 123,
   "metadata": {},
   "outputs": [
    {
     "data": {
      "image/png": "[encoded data removed]",
      "text/plain": [
       "<Figure size 800x500 with 1 Axes>"
      ]
     },
     "metadata": {},
     "output_type": "display_data"
    }
   ],
   "source": [
    "# Data\n",
    "m = ['M1', 'M2', 'M3', 'M4', 'M5', 'M6']\n",
    "mse_values = [130814787, 116450152, 111999768, 103564537, 109310622, 104337612]\n",
    "\n",
    "# Plot\n",
    "plt.figure(figsize=(8, 5))\n",
    "plt.plot(m, mse_values, marker='o', linestyle='-')\n",
    "plt.title('Mean Squared Errors for Each Model')\n",
    "plt.xlabel('Model #')\n",
    "plt.ylabel('Mean Squared Error')\n",
    "plt.grid(True)\n",
    "plt.show()"
   ]
  },
  {
   "cell_type": "markdown",
   "metadata": {},
   "source": [
    "### Deployment\n",
    "\n",
    "Now that we've settled on our models and findings, it is time to deliver the information to the client.  You should organize your work as a basic report that details your primary findings.  Keep in mind that your audience is a group of used car dealers interested in fine-tuning their inventory."
   ]
  },
  {
   "cell_type": "code",
   "execution_count": 126,
   "metadata": {},
   "outputs": [],
   "source": [
    "# To effectively and efficiently predict the prices of used car sales, I recommend that the dataset undergo further review and refinement. \n",
    "# Notably, 14 of the 18 features contained substantial missing values. For future efforts, providing a more complete dataset is \n",
    "# strongly advised to improve model performance and reliability.\n",
    "# After developing six models and progressively reducing the mean squared error (MSE) with each iteration, I am confident that a \n",
    "# more refined dataset would enable continued improvement in prediction accuracy.\n",
    "# Additionally, I recommend segmenting the model by manufacturer. This approach would help mitigate the impact of outliers, as \n",
    "# the current dataset includes prices ranging from zero to over one million. The most influential features in predicting price\n",
    "# were year/age, odometer, manufacturer, and state."
   ]
  },
  {
   "cell_type": "code",
   "execution_count": null,
   "metadata": {},
   "outputs": [],
   "source": []
  },
  {
   "cell_type": "code",
   "execution_count": null,
   "metadata": {},
   "outputs": [],
   "source": []
  },
  {
   "cell_type": "code",
   "execution_count": null,
   "metadata": {},
   "outputs": [],
   "source": []
  }
 ],
 "metadata": {
  "kernelspec": {
   "display_name": "Python [conda env:base] *",
   "language": "python",
   "name": "conda-base-py"
  },
  "language_info": {
   "codemirror_mode": {
    "name": "ipython",
    "version": 3
   },
   "file_extension": ".py",
   "mimetype": "text/x-python",
   "name": "python",
   "nbconvert_exporter": "python",
   "pygments_lexer": "ipython3",
   "version": "3.12.7"
  },
  "widgets": {
   "application/vnd.jupyter.widget-state+json": {
    "state": {},
    "version_major": 2,
    "version_minor": 0
   }
  }
 },
 "nbformat": 4,
 "nbformat_minor": 4
}
